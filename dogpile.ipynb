{
 "cells": [
  {
   "cell_type": "code",
   "execution_count": 1,
   "metadata": {},
   "outputs": [],
   "source": [
    "import k3d.plot\n",
    "import k3d.platonic\n",
    "import typing\n",
    "import json"
   ]
  },
  {
   "cell_type": "code",
   "execution_count": 2,
   "metadata": {},
   "outputs": [],
   "source": [
    "class P(typing.NamedTuple):\n",
    "    x: int\n",
    "    y: int\n",
    "    z: int\n",
    "\n",
    "class Dog(typing.NamedTuple):\n",
    "    points: list[P]\n",
    "    color: int\n",
    "        \n",
    "class Position(typing.NamedTuple):\n",
    "    freeSpace: list[P]\n",
    "    dogs: list[Dog]"
   ]
  },
  {
   "cell_type": "code",
   "execution_count": 3,
   "metadata": {},
   "outputs": [],
   "source": [
    "def drawDogs(dogs: list[Dog]) -> k3d.plot:\n",
    "    plot = k3d.plot()\n",
    "    for dog in dogs:\n",
    "        for p in dog.points:\n",
    "            mesh = k3d.platonic.Cube((p.x, p.y, p.z), 0.5).mesh\n",
    "            mesh.color = dog.color\n",
    "            plot += mesh\n",
    "    return plot"
   ]
  },
  {
   "cell_type": "code",
   "execution_count": 4,
   "metadata": {},
   "outputs": [],
   "source": [
    "def loadDogs(path: str) -> typing.Generator[Dog, None, None]:\n",
    "    with open(path) as handle:\n",
    "        data = json.loads(handle.read())\n",
    "    \n",
    "    for dogData in data:\n",
    "        points = [P(a[0], a[1], a[2]) for a in dogData[\"points\"]]\n",
    "        color = int(dogData[\"color\"], base = 16)\n",
    "        yield Dog(points, color)\n",
    "        \n",
    "def loadPositions(path: str) -> typing.Generator[Position, None, None]:\n",
    "    with open(path) as handle:\n",
    "        data = json.loads(handle.read())\n",
    "    \n",
    "    for positionData in data:\n",
    "        freeSpace = [P(a[0], a[1], a[2]) for a in positionData[\"free\"]]\n",
    "        yield Position(freeSpace, [])"
   ]
  },
  {
   "cell_type": "code",
   "execution_count": 5,
   "metadata": {},
   "outputs": [],
   "source": [
    "# assuming one axis of symmetry (all the dog shapes are flat), so 12 rotations\n",
    "def allDogRotations(dog: Dog) -> typing.Generator[Dog, None, None]:\n",
    "    def rotateX(dog: Dog) -> Dog:\n",
    "        newPoints = [P(p.x, p.z, -p.y) for p in dog.points]\n",
    "        return Dog(newPoints, dog.color)\n",
    "    \n",
    "    def rotateY(dog: Dog) -> Dog:\n",
    "        newPoints = [P(p.z, p.y, -p.x) for p in dog.points]\n",
    "        return Dog(newPoints, dog.color)\n",
    "\n",
    "    def rotateZ(dog: Dog) -> Dog:\n",
    "        newPoints = [P(p.y, -p.x, p.z) for p in dog.points]        \n",
    "        return Dog(newPoints, dog.color)\n",
    "        \n",
    "    for i in range(4):\n",
    "        yield dog\n",
    "        dog = rotateX(dog)\n",
    "    \n",
    "    dog = rotateY(dog)\n",
    "\n",
    "    for i in range(4):\n",
    "        yield dog\n",
    "        dog = rotateZ(dog)\n",
    "\n",
    "    dog = rotateX(dog)\n",
    "    \n",
    "    for i in range(4):\n",
    "        yield dog        \n",
    "        dog = rotateY(dog)"
   ]
  },
  {
   "cell_type": "code",
   "execution_count": 6,
   "metadata": {},
   "outputs": [],
   "source": [
    "def allDogFits(position: Position, dog: Dog) -> typing.Generator[Position, None, None]:\n",
    "    for rotatedDog in allDogRotations(dog):\n",
    "        for fp in position.freeSpace:\n",
    "            translatedDog = Dog([P(dp.x+fp.x, dp.y+fp.y, dp.z+fp.z) for dp in rotatedDog.points], dog.color)\n",
    "            stickingOut = any([p for p in translatedDog.points if p not in position.freeSpace])\n",
    "            \n",
    "            if not stickingOut:\n",
    "                newFreeSpace = [p for p in position.freeSpace if p not in translatedDog.points]\n",
    "                yield Position(newFreeSpace, position.dogs + [translatedDog])"
   ]
  },
  {
   "cell_type": "code",
   "execution_count": 7,
   "metadata": {
    "scrolled": false
   },
   "outputs": [],
   "source": [
    "dogs = list(loadDogs(\"data/dogs.json\"))\n",
    "positions = list(loadPositions(\"data/positions.json\"))"
   ]
  },
  {
   "cell_type": "code",
   "execution_count": 8,
   "metadata": {},
   "outputs": [],
   "source": [
    "def solvePosition(position: Position, remainingDogs: list[Dog]) -> Position:\n",
    "    if not remainingDogs:\n",
    "        return position\n",
    "    \n",
    "    for newPosition in allDogFits(position, remainingDogs[0]):\n",
    "        trySolutionPosition = solvePosition(newPosition, remainingDogs[1:])\n",
    "        if trySolutionPosition:\n",
    "            return trySolutionPosition"
   ]
  },
  {
   "cell_type": "code",
   "execution_count": 9,
   "metadata": {
    "scrolled": false
   },
   "outputs": [],
   "source": [
    "solution = solvePosition(positions[1], dogs)"
   ]
  },
  {
   "cell_type": "code",
   "execution_count": 10,
   "metadata": {
    "scrolled": false
   },
   "outputs": [
    {
     "data": {
      "application/vnd.jupyter.widget-view+json": {
       "model_id": "e1acc112a41246b8b6bbda2e0aef1f46",
       "version_major": 2,
       "version_minor": 0
      },
      "text/plain": [
       "Plot(antialias=3, axes=['x', 'y', 'z'], axes_helper=1.0, background_color=16777215, camera=[2, -3, 0.2, 0.0, 0…"
      ]
     },
     "metadata": {},
     "output_type": "display_data"
    }
   ],
   "source": [
    "drawDogs(solution.dogs)"
   ]
  }
 ],
 "metadata": {
  "kernelspec": {
   "display_name": "Python 3",
   "language": "python",
   "name": "python3"
  },
  "language_info": {
   "codemirror_mode": {
    "name": "ipython",
    "version": 3
   },
   "file_extension": ".py",
   "mimetype": "text/x-python",
   "name": "python",
   "nbconvert_exporter": "python",
   "pygments_lexer": "ipython3",
   "version": "3.9.2"
  }
 },
 "nbformat": 4,
 "nbformat_minor": 2
}
